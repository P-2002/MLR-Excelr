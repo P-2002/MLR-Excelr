{
  "cells": [
    {
      "cell_type": "markdown",
      "source": [
        "**Multi Linear Regression**"
      ],
      "metadata": {
        "id": "q6NeY_RM8CVZ"
      }
    },
    {
      "cell_type": "code",
      "source": [
        "import pandas as pd\n",
        "import numpy as np\n",
        "import matplotlib.pyplot as plt\n",
        "import seaborn as sns\n",
        "from sklearn.linear_model import LinearRegression\n",
        "from sklearn.metrics import mean_squared_error, mean_absolute_error, r2_score\n",
        "from sklearn.model_selection import train_test_split\n",
        "from sklearn.linear_model import Lasso, Ridge\n",
        "import warnings as wr\n",
        "wr.filterwarnings('ignore')"
      ],
      "metadata": {
        "id": "vY2Dri2QtGz4"
      },
      "execution_count": null,
      "outputs": []
    },
    {
      "cell_type": "markdown",
      "source": [
        "**Load the dataset**"
      ],
      "metadata": {
        "id": "NH8W0dyn8YWz"
      }
    },
    {
      "cell_type": "code",
      "execution_count": null,
      "metadata": {
        "id": "NomR5t46eF-t"
      },
      "outputs": [],
      "source": [
        "df=pd.read_csv(\"/content/ToyotaCorolla - MLR.csv\")"
      ]
    },
    {
      "cell_type": "code",
      "source": [
        "df.info()"
      ],
      "metadata": {
        "colab": {
          "base_uri": "https://localhost:8080/"
        },
        "id": "hnkSq_aB8llq",
        "outputId": "b8acd800-e12f-4214-ed8d-d8a3dc4c521a"
      },
      "execution_count": null,
      "outputs": [
        {
          "output_type": "stream",
          "name": "stdout",
          "text": [
            "<class 'pandas.core.frame.DataFrame'>\n",
            "RangeIndex: 1436 entries, 0 to 1435\n",
            "Data columns (total 11 columns):\n",
            " #   Column     Non-Null Count  Dtype \n",
            "---  ------     --------------  ----- \n",
            " 0   Price      1436 non-null   int64 \n",
            " 1   Age_08_04  1436 non-null   int64 \n",
            " 2   KM         1436 non-null   int64 \n",
            " 3   Fuel_Type  1436 non-null   object\n",
            " 4   HP         1436 non-null   int64 \n",
            " 5   Automatic  1436 non-null   int64 \n",
            " 6   cc         1436 non-null   int64 \n",
            " 7   Doors      1436 non-null   int64 \n",
            " 8   Cylinders  1436 non-null   int64 \n",
            " 9   Gears      1436 non-null   int64 \n",
            " 10  Weight     1436 non-null   int64 \n",
            "dtypes: int64(10), object(1)\n",
            "memory usage: 123.5+ KB\n"
          ]
        }
      ]
    },
    {
      "cell_type": "markdown",
      "source": [
        "*1. Perform EDA*"
      ],
      "metadata": {
        "id": "UWDpN06H_hC2"
      }
    },
    {
      "cell_type": "markdown",
      "source": [
        "**Summary Statistic**"
      ],
      "metadata": {
        "id": "XJu9pfl-8v1n"
      }
    },
    {
      "cell_type": "code",
      "source": [
        "df.describe(include='all').T"
      ],
      "metadata": {
        "colab": {
          "base_uri": "https://localhost:8080/",
          "height": 414
        },
        "id": "futoZHmg8oQI",
        "outputId": "1275a58a-b7e8-4e15-c8fd-b1e736f85458"
      },
      "execution_count": null,
      "outputs": [
        {
          "output_type": "execute_result",
          "data": {
            "text/plain": [
              "            count unique     top  freq          mean           std     min  \\\n",
              "Price      1436.0    NaN     NaN   NaN  10730.824513   3626.964585  4350.0   \n",
              "Age_08_04  1436.0    NaN     NaN   NaN     55.947075     18.599988     1.0   \n",
              "KM         1436.0    NaN     NaN   NaN  68533.259749  37506.448872     1.0   \n",
              "Fuel_Type    1436      3  Petrol  1264           NaN           NaN     NaN   \n",
              "HP         1436.0    NaN     NaN   NaN    101.502089      14.98108    69.0   \n",
              "Automatic  1436.0    NaN     NaN   NaN       0.05571      0.229441     0.0   \n",
              "cc         1436.0    NaN     NaN   NaN    1576.85585     424.38677  1300.0   \n",
              "Doors      1436.0    NaN     NaN   NaN      4.033426      0.952677     2.0   \n",
              "Cylinders  1436.0    NaN     NaN   NaN           4.0           0.0     4.0   \n",
              "Gears      1436.0    NaN     NaN   NaN      5.026462       0.18851     3.0   \n",
              "Weight     1436.0    NaN     NaN   NaN    1072.45961      52.64112  1000.0   \n",
              "\n",
              "               25%      50%       75%       max  \n",
              "Price       8450.0   9900.0   11950.0   32500.0  \n",
              "Age_08_04     44.0     61.0      70.0      80.0  \n",
              "KM         43000.0  63389.5  87020.75  243000.0  \n",
              "Fuel_Type      NaN      NaN       NaN       NaN  \n",
              "HP            90.0    110.0     110.0     192.0  \n",
              "Automatic      0.0      0.0       0.0       1.0  \n",
              "cc          1400.0   1600.0    1600.0   16000.0  \n",
              "Doors          3.0      4.0       5.0       5.0  \n",
              "Cylinders      4.0      4.0       4.0       4.0  \n",
              "Gears          5.0      5.0       5.0       6.0  \n",
              "Weight      1040.0   1070.0    1085.0    1615.0  "
            ],
            "text/html": [
              "\n",
              "  <div id=\"df-f3a48c51-5761-494a-8874-a2e4e480acfb\" class=\"colab-df-container\">\n",
              "    <div>\n",
              "<style scoped>\n",
              "    .dataframe tbody tr th:only-of-type {\n",
              "        vertical-align: middle;\n",
              "    }\n",
              "\n",
              "    .dataframe tbody tr th {\n",
              "        vertical-align: top;\n",
              "    }\n",
              "\n",
              "    .dataframe thead th {\n",
              "        text-align: right;\n",
              "    }\n",
              "</style>\n",
              "<table border=\"1\" class=\"dataframe\">\n",
              "  <thead>\n",
              "    <tr style=\"text-align: right;\">\n",
              "      <th></th>\n",
              "      <th>count</th>\n",
              "      <th>unique</th>\n",
              "      <th>top</th>\n",
              "      <th>freq</th>\n",
              "      <th>mean</th>\n",
              "      <th>std</th>\n",
              "      <th>min</th>\n",
              "      <th>25%</th>\n",
              "      <th>50%</th>\n",
              "      <th>75%</th>\n",
              "      <th>max</th>\n",
              "    </tr>\n",
              "  </thead>\n",
              "  <tbody>\n",
              "    <tr>\n",
              "      <th>Price</th>\n",
              "      <td>1436.0</td>\n",
              "      <td>NaN</td>\n",
              "      <td>NaN</td>\n",
              "      <td>NaN</td>\n",
              "      <td>10730.824513</td>\n",
              "      <td>3626.964585</td>\n",
              "      <td>4350.0</td>\n",
              "      <td>8450.0</td>\n",
              "      <td>9900.0</td>\n",
              "      <td>11950.0</td>\n",
              "      <td>32500.0</td>\n",
              "    </tr>\n",
              "    <tr>\n",
              "      <th>Age_08_04</th>\n",
              "      <td>1436.0</td>\n",
              "      <td>NaN</td>\n",
              "      <td>NaN</td>\n",
              "      <td>NaN</td>\n",
              "      <td>55.947075</td>\n",
              "      <td>18.599988</td>\n",
              "      <td>1.0</td>\n",
              "      <td>44.0</td>\n",
              "      <td>61.0</td>\n",
              "      <td>70.0</td>\n",
              "      <td>80.0</td>\n",
              "    </tr>\n",
              "    <tr>\n",
              "      <th>KM</th>\n",
              "      <td>1436.0</td>\n",
              "      <td>NaN</td>\n",
              "      <td>NaN</td>\n",
              "      <td>NaN</td>\n",
              "      <td>68533.259749</td>\n",
              "      <td>37506.448872</td>\n",
              "      <td>1.0</td>\n",
              "      <td>43000.0</td>\n",
              "      <td>63389.5</td>\n",
              "      <td>87020.75</td>\n",
              "      <td>243000.0</td>\n",
              "    </tr>\n",
              "    <tr>\n",
              "      <th>Fuel_Type</th>\n",
              "      <td>1436</td>\n",
              "      <td>3</td>\n",
              "      <td>Petrol</td>\n",
              "      <td>1264</td>\n",
              "      <td>NaN</td>\n",
              "      <td>NaN</td>\n",
              "      <td>NaN</td>\n",
              "      <td>NaN</td>\n",
              "      <td>NaN</td>\n",
              "      <td>NaN</td>\n",
              "      <td>NaN</td>\n",
              "    </tr>\n",
              "    <tr>\n",
              "      <th>HP</th>\n",
              "      <td>1436.0</td>\n",
              "      <td>NaN</td>\n",
              "      <td>NaN</td>\n",
              "      <td>NaN</td>\n",
              "      <td>101.502089</td>\n",
              "      <td>14.98108</td>\n",
              "      <td>69.0</td>\n",
              "      <td>90.0</td>\n",
              "      <td>110.0</td>\n",
              "      <td>110.0</td>\n",
              "      <td>192.0</td>\n",
              "    </tr>\n",
              "    <tr>\n",
              "      <th>Automatic</th>\n",
              "      <td>1436.0</td>\n",
              "      <td>NaN</td>\n",
              "      <td>NaN</td>\n",
              "      <td>NaN</td>\n",
              "      <td>0.05571</td>\n",
              "      <td>0.229441</td>\n",
              "      <td>0.0</td>\n",
              "      <td>0.0</td>\n",
              "      <td>0.0</td>\n",
              "      <td>0.0</td>\n",
              "      <td>1.0</td>\n",
              "    </tr>\n",
              "    <tr>\n",
              "      <th>cc</th>\n",
              "      <td>1436.0</td>\n",
              "      <td>NaN</td>\n",
              "      <td>NaN</td>\n",
              "      <td>NaN</td>\n",
              "      <td>1576.85585</td>\n",
              "      <td>424.38677</td>\n",
              "      <td>1300.0</td>\n",
              "      <td>1400.0</td>\n",
              "      <td>1600.0</td>\n",
              "      <td>1600.0</td>\n",
              "      <td>16000.0</td>\n",
              "    </tr>\n",
              "    <tr>\n",
              "      <th>Doors</th>\n",
              "      <td>1436.0</td>\n",
              "      <td>NaN</td>\n",
              "      <td>NaN</td>\n",
              "      <td>NaN</td>\n",
              "      <td>4.033426</td>\n",
              "      <td>0.952677</td>\n",
              "      <td>2.0</td>\n",
              "      <td>3.0</td>\n",
              "      <td>4.0</td>\n",
              "      <td>5.0</td>\n",
              "      <td>5.0</td>\n",
              "    </tr>\n",
              "    <tr>\n",
              "      <th>Cylinders</th>\n",
              "      <td>1436.0</td>\n",
              "      <td>NaN</td>\n",
              "      <td>NaN</td>\n",
              "      <td>NaN</td>\n",
              "      <td>4.0</td>\n",
              "      <td>0.0</td>\n",
              "      <td>4.0</td>\n",
              "      <td>4.0</td>\n",
              "      <td>4.0</td>\n",
              "      <td>4.0</td>\n",
              "      <td>4.0</td>\n",
              "    </tr>\n",
              "    <tr>\n",
              "      <th>Gears</th>\n",
              "      <td>1436.0</td>\n",
              "      <td>NaN</td>\n",
              "      <td>NaN</td>\n",
              "      <td>NaN</td>\n",
              "      <td>5.026462</td>\n",
              "      <td>0.18851</td>\n",
              "      <td>3.0</td>\n",
              "      <td>5.0</td>\n",
              "      <td>5.0</td>\n",
              "      <td>5.0</td>\n",
              "      <td>6.0</td>\n",
              "    </tr>\n",
              "    <tr>\n",
              "      <th>Weight</th>\n",
              "      <td>1436.0</td>\n",
              "      <td>NaN</td>\n",
              "      <td>NaN</td>\n",
              "      <td>NaN</td>\n",
              "      <td>1072.45961</td>\n",
              "      <td>52.64112</td>\n",
              "      <td>1000.0</td>\n",
              "      <td>1040.0</td>\n",
              "      <td>1070.0</td>\n",
              "      <td>1085.0</td>\n",
              "      <td>1615.0</td>\n",
              "    </tr>\n",
              "  </tbody>\n",
              "</table>\n",
              "</div>\n",
              "    <div class=\"colab-df-buttons\">\n",
              "\n",
              "  <div class=\"colab-df-container\">\n",
              "    <button class=\"colab-df-convert\" onclick=\"convertToInteractive('df-f3a48c51-5761-494a-8874-a2e4e480acfb')\"\n",
              "            title=\"Convert this dataframe to an interactive table.\"\n",
              "            style=\"display:none;\">\n",
              "\n",
              "  <svg xmlns=\"http://www.w3.org/2000/svg\" height=\"24px\" viewBox=\"0 -960 960 960\">\n",
              "    <path d=\"M120-120v-720h720v720H120Zm60-500h600v-160H180v160Zm220 220h160v-160H400v160Zm0 220h160v-160H400v160ZM180-400h160v-160H180v160Zm440 0h160v-160H620v160ZM180-180h160v-160H180v160Zm440 0h160v-160H620v160Z\"/>\n",
              "  </svg>\n",
              "    </button>\n",
              "\n",
              "  <style>\n",
              "    .colab-df-container {\n",
              "      display:flex;\n",
              "      gap: 12px;\n",
              "    }\n",
              "\n",
              "    .colab-df-convert {\n",
              "      background-color: #E8F0FE;\n",
              "      border: none;\n",
              "      border-radius: 50%;\n",
              "      cursor: pointer;\n",
              "      display: none;\n",
              "      fill: #1967D2;\n",
              "      height: 32px;\n",
              "      padding: 0 0 0 0;\n",
              "      width: 32px;\n",
              "    }\n",
              "\n",
              "    .colab-df-convert:hover {\n",
              "      background-color: #E2EBFA;\n",
              "      box-shadow: 0px 1px 2px rgba(60, 64, 67, 0.3), 0px 1px 3px 1px rgba(60, 64, 67, 0.15);\n",
              "      fill: #174EA6;\n",
              "    }\n",
              "\n",
              "    .colab-df-buttons div {\n",
              "      margin-bottom: 4px;\n",
              "    }\n",
              "\n",
              "    [theme=dark] .colab-df-convert {\n",
              "      background-color: #3B4455;\n",
              "      fill: #D2E3FC;\n",
              "    }\n",
              "\n",
              "    [theme=dark] .colab-df-convert:hover {\n",
              "      background-color: #434B5C;\n",
              "      box-shadow: 0px 1px 3px 1px rgba(0, 0, 0, 0.15);\n",
              "      filter: drop-shadow(0px 1px 2px rgba(0, 0, 0, 0.3));\n",
              "      fill: #FFFFFF;\n",
              "    }\n",
              "  </style>\n",
              "\n",
              "    <script>\n",
              "      const buttonEl =\n",
              "        document.querySelector('#df-f3a48c51-5761-494a-8874-a2e4e480acfb button.colab-df-convert');\n",
              "      buttonEl.style.display =\n",
              "        google.colab.kernel.accessAllowed ? 'block' : 'none';\n",
              "\n",
              "      async function convertToInteractive(key) {\n",
              "        const element = document.querySelector('#df-f3a48c51-5761-494a-8874-a2e4e480acfb');\n",
              "        const dataTable =\n",
              "          await google.colab.kernel.invokeFunction('convertToInteractive',\n",
              "                                                    [key], {});\n",
              "        if (!dataTable) return;\n",
              "\n",
              "        const docLinkHtml = 'Like what you see? Visit the ' +\n",
              "          '<a target=\"_blank\" href=https://colab.research.google.com/notebooks/data_table.ipynb>data table notebook</a>'\n",
              "          + ' to learn more about interactive tables.';\n",
              "        element.innerHTML = '';\n",
              "        dataTable['output_type'] = 'display_data';\n",
              "        await google.colab.output.renderOutput(dataTable, element);\n",
              "        const docLink = document.createElement('div');\n",
              "        docLink.innerHTML = docLinkHtml;\n",
              "        element.appendChild(docLink);\n",
              "      }\n",
              "    </script>\n",
              "  </div>\n",
              "\n",
              "\n",
              "<div id=\"df-2457e21e-465f-4291-b9de-332bff9457ee\">\n",
              "  <button class=\"colab-df-quickchart\" onclick=\"quickchart('df-2457e21e-465f-4291-b9de-332bff9457ee')\"\n",
              "            title=\"Suggest charts\"\n",
              "            style=\"display:none;\">\n",
              "\n",
              "<svg xmlns=\"http://www.w3.org/2000/svg\" height=\"24px\"viewBox=\"0 0 24 24\"\n",
              "     width=\"24px\">\n",
              "    <g>\n",
              "        <path d=\"M19 3H5c-1.1 0-2 .9-2 2v14c0 1.1.9 2 2 2h14c1.1 0 2-.9 2-2V5c0-1.1-.9-2-2-2zM9 17H7v-7h2v7zm4 0h-2V7h2v10zm4 0h-2v-4h2v4z\"/>\n",
              "    </g>\n",
              "</svg>\n",
              "  </button>\n",
              "\n",
              "<style>\n",
              "  .colab-df-quickchart {\n",
              "      --bg-color: #E8F0FE;\n",
              "      --fill-color: #1967D2;\n",
              "      --hover-bg-color: #E2EBFA;\n",
              "      --hover-fill-color: #174EA6;\n",
              "      --disabled-fill-color: #AAA;\n",
              "      --disabled-bg-color: #DDD;\n",
              "  }\n",
              "\n",
              "  [theme=dark] .colab-df-quickchart {\n",
              "      --bg-color: #3B4455;\n",
              "      --fill-color: #D2E3FC;\n",
              "      --hover-bg-color: #434B5C;\n",
              "      --hover-fill-color: #FFFFFF;\n",
              "      --disabled-bg-color: #3B4455;\n",
              "      --disabled-fill-color: #666;\n",
              "  }\n",
              "\n",
              "  .colab-df-quickchart {\n",
              "    background-color: var(--bg-color);\n",
              "    border: none;\n",
              "    border-radius: 50%;\n",
              "    cursor: pointer;\n",
              "    display: none;\n",
              "    fill: var(--fill-color);\n",
              "    height: 32px;\n",
              "    padding: 0;\n",
              "    width: 32px;\n",
              "  }\n",
              "\n",
              "  .colab-df-quickchart:hover {\n",
              "    background-color: var(--hover-bg-color);\n",
              "    box-shadow: 0 1px 2px rgba(60, 64, 67, 0.3), 0 1px 3px 1px rgba(60, 64, 67, 0.15);\n",
              "    fill: var(--button-hover-fill-color);\n",
              "  }\n",
              "\n",
              "  .colab-df-quickchart-complete:disabled,\n",
              "  .colab-df-quickchart-complete:disabled:hover {\n",
              "    background-color: var(--disabled-bg-color);\n",
              "    fill: var(--disabled-fill-color);\n",
              "    box-shadow: none;\n",
              "  }\n",
              "\n",
              "  .colab-df-spinner {\n",
              "    border: 2px solid var(--fill-color);\n",
              "    border-color: transparent;\n",
              "    border-bottom-color: var(--fill-color);\n",
              "    animation:\n",
              "      spin 1s steps(1) infinite;\n",
              "  }\n",
              "\n",
              "  @keyframes spin {\n",
              "    0% {\n",
              "      border-color: transparent;\n",
              "      border-bottom-color: var(--fill-color);\n",
              "      border-left-color: var(--fill-color);\n",
              "    }\n",
              "    20% {\n",
              "      border-color: transparent;\n",
              "      border-left-color: var(--fill-color);\n",
              "      border-top-color: var(--fill-color);\n",
              "    }\n",
              "    30% {\n",
              "      border-color: transparent;\n",
              "      border-left-color: var(--fill-color);\n",
              "      border-top-color: var(--fill-color);\n",
              "      border-right-color: var(--fill-color);\n",
              "    }\n",
              "    40% {\n",
              "      border-color: transparent;\n",
              "      border-right-color: var(--fill-color);\n",
              "      border-top-color: var(--fill-color);\n",
              "    }\n",
              "    60% {\n",
              "      border-color: transparent;\n",
              "      border-right-color: var(--fill-color);\n",
              "    }\n",
              "    80% {\n",
              "      border-color: transparent;\n",
              "      border-right-color: var(--fill-color);\n",
              "      border-bottom-color: var(--fill-color);\n",
              "    }\n",
              "    90% {\n",
              "      border-color: transparent;\n",
              "      border-bottom-color: var(--fill-color);\n",
              "    }\n",
              "  }\n",
              "</style>\n",
              "\n",
              "  <script>\n",
              "    async function quickchart(key) {\n",
              "      const quickchartButtonEl =\n",
              "        document.querySelector('#' + key + ' button');\n",
              "      quickchartButtonEl.disabled = true;  // To prevent multiple clicks.\n",
              "      quickchartButtonEl.classList.add('colab-df-spinner');\n",
              "      try {\n",
              "        const charts = await google.colab.kernel.invokeFunction(\n",
              "            'suggestCharts', [key], {});\n",
              "      } catch (error) {\n",
              "        console.error('Error during call to suggestCharts:', error);\n",
              "      }\n",
              "      quickchartButtonEl.classList.remove('colab-df-spinner');\n",
              "      quickchartButtonEl.classList.add('colab-df-quickchart-complete');\n",
              "    }\n",
              "    (() => {\n",
              "      let quickchartButtonEl =\n",
              "        document.querySelector('#df-2457e21e-465f-4291-b9de-332bff9457ee button');\n",
              "      quickchartButtonEl.style.display =\n",
              "        google.colab.kernel.accessAllowed ? 'block' : 'none';\n",
              "    })();\n",
              "  </script>\n",
              "</div>\n",
              "\n",
              "    </div>\n",
              "  </div>\n"
            ],
            "application/vnd.google.colaboratory.intrinsic+json": {
              "type": "dataframe",
              "summary": "{\n  \"name\": \"df\",\n  \"rows\": 11,\n  \"fields\": [\n    {\n      \"column\": \"count\",\n      \"properties\": {\n        \"dtype\": \"date\",\n        \"min\": 1436.0,\n        \"max\": 1436.0,\n        \"num_unique_values\": 1,\n        \"samples\": [\n          1436.0\n        ],\n        \"semantic_type\": \"\",\n        \"description\": \"\"\n      }\n    },\n    {\n      \"column\": \"unique\",\n      \"properties\": {\n        \"dtype\": \"date\",\n        \"min\": 3,\n        \"max\": 3,\n        \"num_unique_values\": 1,\n        \"samples\": [\n          3\n        ],\n        \"semantic_type\": \"\",\n        \"description\": \"\"\n      }\n    },\n    {\n      \"column\": \"top\",\n      \"properties\": {\n        \"dtype\": \"category\",\n        \"num_unique_values\": 1,\n        \"samples\": [\n          \"Petrol\"\n        ],\n        \"semantic_type\": \"\",\n        \"description\": \"\"\n      }\n    },\n    {\n      \"column\": \"freq\",\n      \"properties\": {\n        \"dtype\": \"date\",\n        \"min\": \"1264\",\n        \"max\": \"1264\",\n        \"num_unique_values\": 1,\n        \"samples\": [\n          \"1264\"\n        ],\n        \"semantic_type\": \"\",\n        \"description\": \"\"\n      }\n    },\n    {\n      \"column\": \"mean\",\n      \"properties\": {\n        \"dtype\": \"date\",\n        \"min\": 0.055710306406685235,\n        \"max\": 68533.25974930362,\n        \"num_unique_values\": 10,\n        \"samples\": [\n          5.0264623955431755\n        ],\n        \"semantic_type\": \"\",\n        \"description\": \"\"\n      }\n    },\n    {\n      \"column\": \"std\",\n      \"properties\": {\n        \"dtype\": \"date\",\n        \"min\": 0.0,\n        \"max\": 37506.44887218956,\n        \"num_unique_values\": 10,\n        \"samples\": [\n          0.18851044383559556\n        ],\n        \"semantic_type\": \"\",\n        \"description\": \"\"\n      }\n    },\n    {\n      \"column\": \"min\",\n      \"properties\": {\n        \"dtype\": \"date\",\n        \"min\": 0.0,\n        \"max\": 4350.0,\n        \"num_unique_values\": 9,\n        \"samples\": [\n          3.0\n        ],\n        \"semantic_type\": \"\",\n        \"description\": \"\"\n      }\n    },\n    {\n      \"column\": \"25%\",\n      \"properties\": {\n        \"dtype\": \"date\",\n        \"min\": 0.0,\n        \"max\": 43000.0,\n        \"num_unique_values\": 10,\n        \"samples\": [\n          5.0\n        ],\n        \"semantic_type\": \"\",\n        \"description\": \"\"\n      }\n    },\n    {\n      \"column\": \"50%\",\n      \"properties\": {\n        \"dtype\": \"date\",\n        \"min\": 0.0,\n        \"max\": 63389.5,\n        \"num_unique_values\": 9,\n        \"samples\": [\n          5.0\n        ],\n        \"semantic_type\": \"\",\n        \"description\": \"\"\n      }\n    },\n    {\n      \"column\": \"75%\",\n      \"properties\": {\n        \"dtype\": \"date\",\n        \"min\": 0.0,\n        \"max\": 87020.75,\n        \"num_unique_values\": 9,\n        \"samples\": [\n          4.0\n        ],\n        \"semantic_type\": \"\",\n        \"description\": \"\"\n      }\n    },\n    {\n      \"column\": \"max\",\n      \"properties\": {\n        \"dtype\": \"date\",\n        \"min\": 1.0,\n        \"max\": 243000.0,\n        \"num_unique_values\": 10,\n        \"samples\": [\n          6.0\n        ],\n        \"semantic_type\": \"\",\n        \"description\": \"\"\n      }\n    }\n  ]\n}"
            }
          },
          "metadata": {},
          "execution_count": 33
        }
      ]
    },
    {
      "cell_type": "markdown",
      "source": [
        "**Visualization**"
      ],
      "metadata": {
        "id": "Xo3ruD8A82Hy"
      }
    },
    {
      "cell_type": "code",
      "source": [
        "#Distribution of target variable (price)\n",
        "plt.figure(figsize=(6,4))\n",
        "sns.histplot(df['Price'], kde=True, color='blue')\n",
        "plt.title('Distribution of Price')\n",
        "plt.xlabel('Price')\n",
        "plt.ylabel('Frequency')\n",
        "plt.tight_layout()\n",
        "plt.show()"
      ],
      "metadata": {
        "colab": {
          "base_uri": "https://localhost:8080/",
          "height": 407
        },
        "id": "QKH1bBd38_yx",
        "outputId": "2e66ba77-fd97-43d8-eb37-26353c8da619"
      },
      "execution_count": null,
      "outputs": [
        {
          "output_type": "display_data",
          "data": {
            "text/plain": [
              "<Figure size 600x400 with 1 Axes>"
            ],
            "image/png": "[encoded data removed]"
          },
          "metadata": {}
        }
      ]
    },
    {
      "cell_type": "code",
      "source": [
        "#Correlation Heatmap for numerical variables\n",
        "plt.figure(figsize=(12, 8))\n",
        "sns.heatmap(df.corr(numeric_only=True), annot=True, cmap='coolwarm', linewidths=0.5)\n",
        "plt.title('Correlation Heatmap')\n",
        "plt.tight_layout()\n",
        "plt.show()"
      ],
      "metadata": {
        "colab": {
          "base_uri": "https://localhost:8080/",
          "height": 477
        },
        "id": "QVDP3QT39ypp",
        "outputId": "2bddcdd1-4185-408c-c06b-158ffca3c912"
      },
      "execution_count": null,
      "outputs": [
        {
          "output_type": "display_data",
          "data": {
            "text/plain": [
              "<Figure size 1200x800 with 2 Axes>"
            ],
            "image/png": "[encoded data removed]"
          },
          "metadata": {}
        }
      ]
    },
    {
      "cell_type": "code",
      "source": [
        "#Bar plot for the categorical variable\n",
        "plt.figure(figsize=(6, 4))\n",
        "sns.countplot(data=df, x='Fuel_Type', palette='Set2')\n",
        "plt.title('Fuel Type Distribution')\n",
        "plt.xlabel('Fuel Type')\n",
        "plt.ylabel('Count')\n",
        "plt.tight_layout()\n",
        "plt.show()"
      ],
      "metadata": {
        "colab": {
          "base_uri": "https://localhost:8080/",
          "height": 407
        },
        "id": "kRO0OIAD-Mby",
        "outputId": "8d994688-c9f9-49c9-d82f-ae405060e0fe"
      },
      "execution_count": null,
      "outputs": [
        {
          "output_type": "display_data",
          "data": {
            "text/plain": [
              "<Figure size 600x400 with 1 Axes>"
            ],
            "image/png": "[encoded data removed]"
          },
          "metadata": {}
        }
      ]
    },
    {
      "cell_type": "markdown",
      "source": [
        "**Preprocessing for MLR**"
      ],
      "metadata": {
        "id": "iW6OIrcu-dYS"
      }
    },
    {
      "cell_type": "code",
      "source": [
        "df_encoded = pd.get_dummies(df, columns=['Fuel_Type'], drop_first=True)"
      ],
      "metadata": {
        "id": "xRS4XOli-njZ"
      },
      "execution_count": null,
      "outputs": []
    },
    {
      "cell_type": "markdown",
      "source": [
        "*2. Split the dataset (80% Train, 20% Test)*"
      ],
      "metadata": {
        "id": "Wcw1AMIs-taT"
      }
    },
    {
      "cell_type": "code",
      "source": [
        "x=df_encoded.drop(columns=['Price'])\n",
        "y=df_encoded['Price']"
      ],
      "metadata": {
        "id": "p-dSXyih-__y"
      },
      "execution_count": null,
      "outputs": []
    },
    {
      "cell_type": "code",
      "source": [
        "x_train, x_test, y_train, y_test = train_test_split(x, y, test_size=0.2, random_state=42)"
      ],
      "metadata": {
        "id": "8KImfC9D_NIi"
      },
      "execution_count": null,
      "outputs": []
    },
    {
      "cell_type": "code",
      "source": [
        "print(\"Training set size:\", x_train.shape)\n",
        "print(\"Testing set size:\", x_test.shape)"
      ],
      "metadata": {
        "colab": {
          "base_uri": "https://localhost:8080/"
        },
        "id": "vnvXnSnH_TkL",
        "outputId": "bd2f17ae-6cb4-4177-d217-9e21b39ecc7a"
      },
      "execution_count": null,
      "outputs": [
        {
          "output_type": "stream",
          "name": "stdout",
          "text": [
            "Training set size: (1148, 11)\n",
            "Testing set size: (288, 11)\n"
          ]
        }
      ]
    },
    {
      "cell_type": "markdown",
      "source": [
        "*3. Build 3 Different models*"
      ],
      "metadata": {
        "id": "Qor_IkejEHw_"
      }
    },
    {
      "cell_type": "code",
      "source": [
        "#Model 1 : Full Feature Model\n",
        "model1 = LinearRegression()\n",
        "model1.fit(x_train, y_train)\n",
        "coeff_model1=pd.Series(model1.coef_, index= x_train.columns)\n",
        "print(coeff_model1)"
      ],
      "metadata": {
        "colab": {
          "base_uri": "https://localhost:8080/"
        },
        "id": "IOXPPCvsEN78",
        "outputId": "47839a87-a06a-4bbf-e653-bc2f9cf26c00"
      },
      "execution_count": null,
      "outputs": [
        {
          "output_type": "stream",
          "name": "stdout",
          "text": [
            "Age_08_04          -1.208305e+02\n",
            "KM                 -1.623141e-02\n",
            "HP                  1.403948e+01\n",
            "Automatic           1.488309e+02\n",
            "cc                 -3.037219e-02\n",
            "Doors              -6.031097e+01\n",
            "Cylinders          -1.620037e-12\n",
            "Gears               5.516007e+02\n",
            "Weight              2.588496e+01\n",
            "Fuel_Type_Diesel   -6.854876e+01\n",
            "Fuel_Type_Petrol    1.370809e+03\n",
            "dtype: float64\n"
          ]
        }
      ]
    },
    {
      "cell_type": "code",
      "source": [
        "#Model2 : Simplified Model (Only important Numerical Feature)\n",
        "selected_features=['Age_08_04', 'KM', 'HP', 'Weight']\n",
        "x_train_model2 = x_train[selected_features]\n",
        "x_test_model2 = x_test[selected_features]\n",
        "model2 = LinearRegression()\n",
        "model2.fit(x_train_model2, y_train)\n",
        "coeff_model2=pd.Series(model2.coef_, index= x_train_model2.columns)\n",
        "print(coeff_model2)"
      ],
      "metadata": {
        "colab": {
          "base_uri": "https://localhost:8080/"
        },
        "id": "Mp8rVM01FYWf",
        "outputId": "90683610-5387-4a35-c16e-53a5bff0f073"
      },
      "execution_count": null,
      "outputs": [
        {
          "output_type": "stream",
          "name": "stdout",
          "text": [
            "Age_08_04   -120.025405\n",
            "KM            -0.020233\n",
            "HP            29.052170\n",
            "Weight        19.769066\n",
            "dtype: float64\n"
          ]
        }
      ]
    },
    {
      "cell_type": "code",
      "source": [
        "#Model3 : Selected feature of + Categorical variables\n",
        "selected_features2=['Age_08_04', 'KM', 'HP', 'Weight', 'Automatic' , 'Fuel_Type_Petrol', 'Fuel_Type_Diesel']\n",
        "x_train_model3 = x_train[selected_features2]\n",
        "x_test_model3 = x_test[selected_features2]\n",
        "model3 = LinearRegression()\n",
        "model3.fit(x_train_model3, y_train)\n",
        "coeff_model3=pd.Series(model3.coef_, index= x_train_model3.columns)\n",
        "print(coeff_model3)"
      ],
      "metadata": {
        "colab": {
          "base_uri": "https://localhost:8080/"
        },
        "id": "lFL684gXGMBC",
        "outputId": "e68f90a9-a201-4df2-c90b-8c4675a95a03"
      },
      "execution_count": null,
      "outputs": [
        {
          "output_type": "stream",
          "name": "stdout",
          "text": [
            "Age_08_04           -120.968986\n",
            "KM                    -0.016177\n",
            "HP                    16.700809\n",
            "Weight                25.021093\n",
            "Automatic            120.237154\n",
            "Fuel_Type_Petrol    1416.404495\n",
            "Fuel_Type_Diesel      88.139531\n",
            "dtype: float64\n"
          ]
        }
      ]
    },
    {
      "cell_type": "markdown",
      "source": [
        "*4. Performance of Evaluation*"
      ],
      "metadata": {
        "id": "e89Zhyzaq57B"
      }
    },
    {
      "cell_type": "code",
      "source": [
        "y_pred_model1 = model1.predict(x_test)\n",
        "y_pred_model2 = model2.predict(x_test_model2)\n",
        "y_pred_model3 = model3.predict(x_test_model3)"
      ],
      "metadata": {
        "id": "f_akhP9nrLfg"
      },
      "execution_count": null,
      "outputs": []
    },
    {
      "cell_type": "code",
      "source": [
        "mse1 = mean_squared_error(y_test, y_pred_model1)\n",
        "mse2 = mean_squared_error(y_test, y_pred_model2)\n",
        "mse3 = mean_squared_error(y_test, y_pred_model3)"
      ],
      "metadata": {
        "id": "LVrVUygzrS-L"
      },
      "execution_count": null,
      "outputs": []
    },
    {
      "cell_type": "code",
      "source": [
        "mae1 = mean_absolute_error(y_test, y_pred_model1)\n",
        "mae2 = mean_absolute_error(y_test, y_pred_model2)\n",
        "mae3 = mean_absolute_error(y_test, y_pred_model3)"
      ],
      "metadata": {
        "id": "DwoDHoYkrwl8"
      },
      "execution_count": null,
      "outputs": []
    },
    {
      "cell_type": "code",
      "source": [
        "r2_1 = r2_score(y_test, y_pred_model1)\n",
        "r2_2 = r2_score(y_test, y_pred_model2)\n",
        "r2_3 = r2_score(y_test, y_pred_model3)"
      ],
      "metadata": {
        "id": "YjPc2g7srzsd"
      },
      "execution_count": null,
      "outputs": []
    },
    {
      "cell_type": "code",
      "source": [
        "evaluation_df = pd.DataFrame({\n",
        "    'Model': ['Full Feature Model', 'Simplified Model', 'Selected Feature Model + Categorical'],\n",
        "    'Mean Squared Error': [mse1, mse2, mse3],\n",
        "    'Mean Absolute Error': [mae1, mae2, mae3],\n",
        "    'R-squared': [r2_1, r2_2, r2_3]\n",
        "})\n",
        "evaluation_df.round(2)"
      ],
      "metadata": {
        "colab": {
          "base_uri": "https://localhost:8080/",
          "height": 178
        },
        "id": "yP7B0sl4sC4J",
        "outputId": "94305745-5b7b-4fc5-9aba-88e946aedd92"
      },
      "execution_count": null,
      "outputs": [
        {
          "output_type": "execute_result",
          "data": {
            "text/plain": [
              "                                  Model  Mean Squared Error  \\\n",
              "0                    Full Feature Model          2203043.82   \n",
              "1                      Simplified Model          1993321.01   \n",
              "2  Selected Feature Model + Categorical          2204601.20   \n",
              "\n",
              "   Mean Absolute Error  R-squared  \n",
              "0               990.89       0.83  \n",
              "1              1001.20       0.85  \n",
              "2              1000.71       0.83  "
            ],
            "text/html": [
              "\n",
              "  <div id=\"df-a328d84e-27df-4a85-868a-914d60baa38d\" class=\"colab-df-container\">\n",
              "    <div>\n",
              "<style scoped>\n",
              "    .dataframe tbody tr th:only-of-type {\n",
              "        vertical-align: middle;\n",
              "    }\n",
              "\n",
              "    .dataframe tbody tr th {\n",
              "        vertical-align: top;\n",
              "    }\n",
              "\n",
              "    .dataframe thead th {\n",
              "        text-align: right;\n",
              "    }\n",
              "</style>\n",
              "<table border=\"1\" class=\"dataframe\">\n",
              "  <thead>\n",
              "    <tr style=\"text-align: right;\">\n",
              "      <th></th>\n",
              "      <th>Model</th>\n",
              "      <th>Mean Squared Error</th>\n",
              "      <th>Mean Absolute Error</th>\n",
              "      <th>R-squared</th>\n",
              "    </tr>\n",
              "  </thead>\n",
              "  <tbody>\n",
              "    <tr>\n",
              "      <th>0</th>\n",
              "      <td>Full Feature Model</td>\n",
              "      <td>2203043.82</td>\n",
              "      <td>990.89</td>\n",
              "      <td>0.83</td>\n",
              "    </tr>\n",
              "    <tr>\n",
              "      <th>1</th>\n",
              "      <td>Simplified Model</td>\n",
              "      <td>1993321.01</td>\n",
              "      <td>1001.20</td>\n",
              "      <td>0.85</td>\n",
              "    </tr>\n",
              "    <tr>\n",
              "      <th>2</th>\n",
              "      <td>Selected Feature Model + Categorical</td>\n",
              "      <td>2204601.20</td>\n",
              "      <td>1000.71</td>\n",
              "      <td>0.83</td>\n",
              "    </tr>\n",
              "  </tbody>\n",
              "</table>\n",
              "</div>\n",
              "    <div class=\"colab-df-buttons\">\n",
              "\n",
              "  <div class=\"colab-df-container\">\n",
              "    <button class=\"colab-df-convert\" onclick=\"convertToInteractive('df-a328d84e-27df-4a85-868a-914d60baa38d')\"\n",
              "            title=\"Convert this dataframe to an interactive table.\"\n",
              "            style=\"display:none;\">\n",
              "\n",
              "  <svg xmlns=\"http://www.w3.org/2000/svg\" height=\"24px\" viewBox=\"0 -960 960 960\">\n",
              "    <path d=\"M120-120v-720h720v720H120Zm60-500h600v-160H180v160Zm220 220h160v-160H400v160Zm0 220h160v-160H400v160ZM180-400h160v-160H180v160Zm440 0h160v-160H620v160ZM180-180h160v-160H180v160Zm440 0h160v-160H620v160Z\"/>\n",
              "  </svg>\n",
              "    </button>\n",
              "\n",
              "  <style>\n",
              "    .colab-df-container {\n",
              "      display:flex;\n",
              "      gap: 12px;\n",
              "    }\n",
              "\n",
              "    .colab-df-convert {\n",
              "      background-color: #E8F0FE;\n",
              "      border: none;\n",
              "      border-radius: 50%;\n",
              "      cursor: pointer;\n",
              "      display: none;\n",
              "      fill: #1967D2;\n",
              "      height: 32px;\n",
              "      padding: 0 0 0 0;\n",
              "      width: 32px;\n",
              "    }\n",
              "\n",
              "    .colab-df-convert:hover {\n",
              "      background-color: #E2EBFA;\n",
              "      box-shadow: 0px 1px 2px rgba(60, 64, 67, 0.3), 0px 1px 3px 1px rgba(60, 64, 67, 0.15);\n",
              "      fill: #174EA6;\n",
              "    }\n",
              "\n",
              "    .colab-df-buttons div {\n",
              "      margin-bottom: 4px;\n",
              "    }\n",
              "\n",
              "    [theme=dark] .colab-df-convert {\n",
              "      background-color: #3B4455;\n",
              "      fill: #D2E3FC;\n",
              "    }\n",
              "\n",
              "    [theme=dark] .colab-df-convert:hover {\n",
              "      background-color: #434B5C;\n",
              "      box-shadow: 0px 1px 3px 1px rgba(0, 0, 0, 0.15);\n",
              "      filter: drop-shadow(0px 1px 2px rgba(0, 0, 0, 0.3));\n",
              "      fill: #FFFFFF;\n",
              "    }\n",
              "  </style>\n",
              "\n",
              "    <script>\n",
              "      const buttonEl =\n",
              "        document.querySelector('#df-a328d84e-27df-4a85-868a-914d60baa38d button.colab-df-convert');\n",
              "      buttonEl.style.display =\n",
              "        google.colab.kernel.accessAllowed ? 'block' : 'none';\n",
              "\n",
              "      async function convertToInteractive(key) {\n",
              "        const element = document.querySelector('#df-a328d84e-27df-4a85-868a-914d60baa38d');\n",
              "        const dataTable =\n",
              "          await google.colab.kernel.invokeFunction('convertToInteractive',\n",
              "                                                    [key], {});\n",
              "        if (!dataTable) return;\n",
              "\n",
              "        const docLinkHtml = 'Like what you see? Visit the ' +\n",
              "          '<a target=\"_blank\" href=https://colab.research.google.com/notebooks/data_table.ipynb>data table notebook</a>'\n",
              "          + ' to learn more about interactive tables.';\n",
              "        element.innerHTML = '';\n",
              "        dataTable['output_type'] = 'display_data';\n",
              "        await google.colab.output.renderOutput(dataTable, element);\n",
              "        const docLink = document.createElement('div');\n",
              "        docLink.innerHTML = docLinkHtml;\n",
              "        element.appendChild(docLink);\n",
              "      }\n",
              "    </script>\n",
              "  </div>\n",
              "\n",
              "\n",
              "<div id=\"df-7f72dd44-eed2-4df8-8762-493c37831151\">\n",
              "  <button class=\"colab-df-quickchart\" onclick=\"quickchart('df-7f72dd44-eed2-4df8-8762-493c37831151')\"\n",
              "            title=\"Suggest charts\"\n",
              "            style=\"display:none;\">\n",
              "\n",
              "<svg xmlns=\"http://www.w3.org/2000/svg\" height=\"24px\"viewBox=\"0 0 24 24\"\n",
              "     width=\"24px\">\n",
              "    <g>\n",
              "        <path d=\"M19 3H5c-1.1 0-2 .9-2 2v14c0 1.1.9 2 2 2h14c1.1 0 2-.9 2-2V5c0-1.1-.9-2-2-2zM9 17H7v-7h2v7zm4 0h-2V7h2v10zm4 0h-2v-4h2v4z\"/>\n",
              "    </g>\n",
              "</svg>\n",
              "  </button>\n",
              "\n",
              "<style>\n",
              "  .colab-df-quickchart {\n",
              "      --bg-color: #E8F0FE;\n",
              "      --fill-color: #1967D2;\n",
              "      --hover-bg-color: #E2EBFA;\n",
              "      --hover-fill-color: #174EA6;\n",
              "      --disabled-fill-color: #AAA;\n",
              "      --disabled-bg-color: #DDD;\n",
              "  }\n",
              "\n",
              "  [theme=dark] .colab-df-quickchart {\n",
              "      --bg-color: #3B4455;\n",
              "      --fill-color: #D2E3FC;\n",
              "      --hover-bg-color: #434B5C;\n",
              "      --hover-fill-color: #FFFFFF;\n",
              "      --disabled-bg-color: #3B4455;\n",
              "      --disabled-fill-color: #666;\n",
              "  }\n",
              "\n",
              "  .colab-df-quickchart {\n",
              "    background-color: var(--bg-color);\n",
              "    border: none;\n",
              "    border-radius: 50%;\n",
              "    cursor: pointer;\n",
              "    display: none;\n",
              "    fill: var(--fill-color);\n",
              "    height: 32px;\n",
              "    padding: 0;\n",
              "    width: 32px;\n",
              "  }\n",
              "\n",
              "  .colab-df-quickchart:hover {\n",
              "    background-color: var(--hover-bg-color);\n",
              "    box-shadow: 0 1px 2px rgba(60, 64, 67, 0.3), 0 1px 3px 1px rgba(60, 64, 67, 0.15);\n",
              "    fill: var(--button-hover-fill-color);\n",
              "  }\n",
              "\n",
              "  .colab-df-quickchart-complete:disabled,\n",
              "  .colab-df-quickchart-complete:disabled:hover {\n",
              "    background-color: var(--disabled-bg-color);\n",
              "    fill: var(--disabled-fill-color);\n",
              "    box-shadow: none;\n",
              "  }\n",
              "\n",
              "  .colab-df-spinner {\n",
              "    border: 2px solid var(--fill-color);\n",
              "    border-color: transparent;\n",
              "    border-bottom-color: var(--fill-color);\n",
              "    animation:\n",
              "      spin 1s steps(1) infinite;\n",
              "  }\n",
              "\n",
              "  @keyframes spin {\n",
              "    0% {\n",
              "      border-color: transparent;\n",
              "      border-bottom-color: var(--fill-color);\n",
              "      border-left-color: var(--fill-color);\n",
              "    }\n",
              "    20% {\n",
              "      border-color: transparent;\n",
              "      border-left-color: var(--fill-color);\n",
              "      border-top-color: var(--fill-color);\n",
              "    }\n",
              "    30% {\n",
              "      border-color: transparent;\n",
              "      border-left-color: var(--fill-color);\n",
              "      border-top-color: var(--fill-color);\n",
              "      border-right-color: var(--fill-color);\n",
              "    }\n",
              "    40% {\n",
              "      border-color: transparent;\n",
              "      border-right-color: var(--fill-color);\n",
              "      border-top-color: var(--fill-color);\n",
              "    }\n",
              "    60% {\n",
              "      border-color: transparent;\n",
              "      border-right-color: var(--fill-color);\n",
              "    }\n",
              "    80% {\n",
              "      border-color: transparent;\n",
              "      border-right-color: var(--fill-color);\n",
              "      border-bottom-color: var(--fill-color);\n",
              "    }\n",
              "    90% {\n",
              "      border-color: transparent;\n",
              "      border-bottom-color: var(--fill-color);\n",
              "    }\n",
              "  }\n",
              "</style>\n",
              "\n",
              "  <script>\n",
              "    async function quickchart(key) {\n",
              "      const quickchartButtonEl =\n",
              "        document.querySelector('#' + key + ' button');\n",
              "      quickchartButtonEl.disabled = true;  // To prevent multiple clicks.\n",
              "      quickchartButtonEl.classList.add('colab-df-spinner');\n",
              "      try {\n",
              "        const charts = await google.colab.kernel.invokeFunction(\n",
              "            'suggestCharts', [key], {});\n",
              "      } catch (error) {\n",
              "        console.error('Error during call to suggestCharts:', error);\n",
              "      }\n",
              "      quickchartButtonEl.classList.remove('colab-df-spinner');\n",
              "      quickchartButtonEl.classList.add('colab-df-quickchart-complete');\n",
              "    }\n",
              "    (() => {\n",
              "      let quickchartButtonEl =\n",
              "        document.querySelector('#df-7f72dd44-eed2-4df8-8762-493c37831151 button');\n",
              "      quickchartButtonEl.style.display =\n",
              "        google.colab.kernel.accessAllowed ? 'block' : 'none';\n",
              "    })();\n",
              "  </script>\n",
              "</div>\n",
              "\n",
              "    </div>\n",
              "  </div>\n"
            ],
            "application/vnd.google.colaboratory.intrinsic+json": {
              "type": "dataframe",
              "summary": "{\n  \"name\": \"evaluation_df\",\n  \"rows\": 3,\n  \"fields\": [\n    {\n      \"column\": \"Model\",\n      \"properties\": {\n        \"dtype\": \"string\",\n        \"num_unique_values\": 3,\n        \"samples\": [\n          \"Full Feature Model\",\n          \"Simplified Model\",\n          \"Selected Feature Model + Categorical\"\n        ],\n        \"semantic_type\": \"\",\n        \"description\": \"\"\n      }\n    },\n    {\n      \"column\": \"Mean Squared Error\",\n      \"properties\": {\n        \"dtype\": \"number\",\n        \"std\": 121535.59228554997,\n        \"min\": 1993321.01,\n        \"max\": 2204601.2,\n        \"num_unique_values\": 3,\n        \"samples\": [\n          2203043.82,\n          1993321.01,\n          2204601.2\n        ],\n        \"semantic_type\": \"\",\n        \"description\": \"\"\n      }\n    },\n    {\n      \"column\": \"Mean Absolute Error\",\n      \"properties\": {\n        \"dtype\": \"number\",\n        \"std\": 5.81619291289417,\n        \"min\": 990.89,\n        \"max\": 1001.2,\n        \"num_unique_values\": 3,\n        \"samples\": [\n          990.89,\n          1001.2,\n          1000.71\n        ],\n        \"semantic_type\": \"\",\n        \"description\": \"\"\n      }\n    },\n    {\n      \"column\": \"R-squared\",\n      \"properties\": {\n        \"dtype\": \"number\",\n        \"std\": 0.011547005383792525,\n        \"min\": 0.83,\n        \"max\": 0.85,\n        \"num_unique_values\": 2,\n        \"samples\": [\n          0.85,\n          0.83\n        ],\n        \"semantic_type\": \"\",\n        \"description\": \"\"\n      }\n    }\n  ]\n}"
            }
          },
          "metadata": {},
          "execution_count": 48
        }
      ]
    },
    {
      "cell_type": "markdown",
      "source": [
        "*5. Apply Lasso and Ridge methods on the model.*"
      ],
      "metadata": {
        "id": "OO5B36qWstyG"
      }
    },
    {
      "cell_type": "code",
      "source": [
        "#Apply in model3\n",
        "selected_features2=['Age_08_04', 'KM', 'HP', 'Weight', 'Automatic' , 'Fuel_Type_Petrol', 'Fuel_Type_Diesel']\n",
        "x_train_sel = x_train[selected_features2]\n",
        "x_test_sel = x_test[selected_features2]\n",
        "\n",
        "#Lasso Regression\n",
        "lasso = Lasso(alpha=0.1)\n",
        "lasso.fit(x_train_sel, y_train)\n",
        "y_pred_lasso = lasso.predict(x_test_sel)\n",
        "\n",
        "#Ridge Regression\n",
        "ridge = Ridge(alpha=0.1)\n",
        "ridge.fit(x_train_sel, y_train)\n",
        "y_pred_ridge = ridge.predict(x_test_sel)"
      ],
      "metadata": {
        "id": "9hG2PcT5sz98"
      },
      "execution_count": null,
      "outputs": []
    },
    {
      "cell_type": "code",
      "source": [
        "print(\"Lasso Regression:\")\n",
        "print(\"R-Squared\", r2_score(y_test, y_pred_lasso))\n",
        "print(\"Mean Squared Error\", mean_squared_error(y_test, y_pred_lasso))\n",
        "\n",
        "print(\"\\nRidge Regression:\")\n",
        "print(\"R-Squared\", r2_score(y_test, y_pred_ridge))\n",
        "print(\"Mean Squared Error\", mean_squared_error(y_test, y_pred_ridge))"
      ],
      "metadata": {
        "colab": {
          "base_uri": "https://localhost:8080/"
        },
        "id": "kuUCZA5lwBrv",
        "outputId": "e4a4e260-72ae-4d45-bcd7-237d703fe465"
      },
      "execution_count": null,
      "outputs": [
        {
          "output_type": "stream",
          "name": "stdout",
          "text": [
            "Lasso Regression:\n",
            "R-Squared 0.8347243594522964\n",
            "Mean Squared Error 2205237.9728355636\n",
            "\n",
            "Ridge Regression:\n",
            "R-Squared 0.8347892697022045\n",
            "Mean Squared Error 2204371.8890772485\n"
          ]
        }
      ]
    },
    {
      "cell_type": "markdown",
      "source": [
        "Ridge Regression is performing slightly beytyter than Lasso based on both:\n",
        "\n",
        "*   Higher R2 (explains more variance)\n",
        "*   Lower MSE (makes slightly fewer errors)\n",
        "\n",
        "The difference is **very small**, but Ridge wins here.\n",
        "\n",
        "\n"
      ],
      "metadata": {
        "id": "HeUqN3Hm0CCL"
      }
    },
    {
      "cell_type": "markdown",
      "source": [
        "**Interview Questions:**\n",
        "1.  What is Normalization & Standardization and how is it helpful?\n",
        "\n",
        "**Answer:** Normalization (also called **min-max scaling**) rescales the data to a fixed range, usually [0,1].\n",
        "\n",
        "Standardization (also called **Z-score normalization**) transforms the data to have a means of 0 and a standard deviation of 1.\n",
        "\n",
        "Helpful\n",
        "\n",
        "*  Improves model accuracy.\n",
        "*   Faster convergence.\n",
        "*  Avoids dominance.\n",
        "\n",
        "\n",
        "\n",
        "2. What techniques can be used to address multicollinearity in multiple linear regression?\n",
        "\n",
        "**Answer:**\n",
        "\n",
        "*  Remove Highly Correlated Predictors\n",
        "*  Variance Inflation Factor (VIF)\n",
        "*  Principal Component Analysis (PCA)\n",
        "* Regularization Techniques\n",
        "\n"
      ],
      "metadata": {
        "id": "weuWEuFELcYr"
      }
    }
  ],
  "metadata": {
    "colab": {
      "provenance": []
    },
    "kernelspec": {
      "display_name": "Python 3",
      "name": "python3"
    },
    "language_info": {
      "name": "python"
    }
  },
  "nbformat": 4,
  "nbformat_minor": 0
}